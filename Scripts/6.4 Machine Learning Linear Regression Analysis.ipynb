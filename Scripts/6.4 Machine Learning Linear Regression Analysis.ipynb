{
 "cells": [
  {
   "cell_type": "markdown",
   "id": "869bae10",
   "metadata": {},
   "source": [
    "1. Import Libraries"
   ]
  },
  {
   "cell_type": "code",
   "execution_count": 1,
   "id": "4ea30291",
   "metadata": {},
   "outputs": [],
   "source": [
    "import pandas as pd\n",
    "import numpy as np\n",
    "import seaborn as sns\n",
    "import matplotlib\n",
    "import matplotlib.pyplot as plt\n",
    "import os\n",
    "import sklearn\n",
    "from sklearn.model_selection import train_test_split \n",
    "from sklearn.linear_model import LinearRegression\n",
    "from sklearn.metrics import mean_squared_error, r2_score"
   ]
  },
  {
   "cell_type": "code",
   "execution_count": 2,
   "id": "0f855aa7",
   "metadata": {},
   "outputs": [],
   "source": [
    "%matplotlib inline"
   ]
  },
  {
   "cell_type": "markdown",
   "id": "340d93e4",
   "metadata": {},
   "source": [
    "2. Import Data"
   ]
  },
  {
   "cell_type": "code",
   "execution_count": 3,
   "id": "cbc5eceb",
   "metadata": {},
   "outputs": [],
   "source": [
    "# Create Path to Main Project Folder\n",
    "path = r'/Users/seema/Documents/CareerFoundry/A6/Data Project'"
   ]
  },
  {
   "cell_type": "code",
   "execution_count": 4,
   "id": "47aaf2e9",
   "metadata": {},
   "outputs": [],
   "source": [
    "df_happiness = pd.read_csv(os.path.join(path, '02 Data', 'Prepared Data', 'happiness_cleaned.csv'), index_col = False)"
   ]
  },
  {
   "cell_type": "markdown",
   "id": "acf8d73e",
   "metadata": {},
   "source": [
    "3. Clean Data"
   ]
  },
  {
   "cell_type": "code",
   "execution_count": 5,
   "id": "7a6297bd",
   "metadata": {},
   "outputs": [
    {
     "data": {
      "text/html": [
       "<div>\n",
       "<style scoped>\n",
       "    .dataframe tbody tr th:only-of-type {\n",
       "        vertical-align: middle;\n",
       "    }\n",
       "\n",
       "    .dataframe tbody tr th {\n",
       "        vertical-align: top;\n",
       "    }\n",
       "\n",
       "    .dataframe thead th {\n",
       "        text-align: right;\n",
       "    }\n",
       "</style>\n",
       "<table border=\"1\" class=\"dataframe\">\n",
       "  <thead>\n",
       "    <tr style=\"text-align: right;\">\n",
       "      <th></th>\n",
       "      <th>Unnamed: 0</th>\n",
       "      <th>Rank</th>\n",
       "      <th>Country</th>\n",
       "      <th>Score</th>\n",
       "      <th>GDP Per Capita</th>\n",
       "      <th>Social Support</th>\n",
       "      <th>Life Expectancy</th>\n",
       "      <th>Freedom</th>\n",
       "      <th>Generosity</th>\n",
       "      <th>Perception of Corruption</th>\n",
       "    </tr>\n",
       "  </thead>\n",
       "  <tbody>\n",
       "    <tr>\n",
       "      <th>0</th>\n",
       "      <td>0</td>\n",
       "      <td>1</td>\n",
       "      <td>Finland</td>\n",
       "      <td>7.769</td>\n",
       "      <td>1.340</td>\n",
       "      <td>1.587</td>\n",
       "      <td>0.986</td>\n",
       "      <td>0.596</td>\n",
       "      <td>0.153</td>\n",
       "      <td>0.393</td>\n",
       "    </tr>\n",
       "    <tr>\n",
       "      <th>1</th>\n",
       "      <td>1</td>\n",
       "      <td>2</td>\n",
       "      <td>Denmark</td>\n",
       "      <td>7.600</td>\n",
       "      <td>1.383</td>\n",
       "      <td>1.573</td>\n",
       "      <td>0.996</td>\n",
       "      <td>0.592</td>\n",
       "      <td>0.252</td>\n",
       "      <td>0.410</td>\n",
       "    </tr>\n",
       "    <tr>\n",
       "      <th>2</th>\n",
       "      <td>2</td>\n",
       "      <td>3</td>\n",
       "      <td>Norway</td>\n",
       "      <td>7.554</td>\n",
       "      <td>1.488</td>\n",
       "      <td>1.582</td>\n",
       "      <td>1.028</td>\n",
       "      <td>0.603</td>\n",
       "      <td>0.271</td>\n",
       "      <td>0.341</td>\n",
       "    </tr>\n",
       "    <tr>\n",
       "      <th>3</th>\n",
       "      <td>3</td>\n",
       "      <td>4</td>\n",
       "      <td>Iceland</td>\n",
       "      <td>7.494</td>\n",
       "      <td>1.380</td>\n",
       "      <td>1.624</td>\n",
       "      <td>1.026</td>\n",
       "      <td>0.591</td>\n",
       "      <td>0.354</td>\n",
       "      <td>0.118</td>\n",
       "    </tr>\n",
       "    <tr>\n",
       "      <th>4</th>\n",
       "      <td>4</td>\n",
       "      <td>5</td>\n",
       "      <td>Netherlands</td>\n",
       "      <td>7.488</td>\n",
       "      <td>1.396</td>\n",
       "      <td>1.522</td>\n",
       "      <td>0.999</td>\n",
       "      <td>0.557</td>\n",
       "      <td>0.322</td>\n",
       "      <td>0.298</td>\n",
       "    </tr>\n",
       "  </tbody>\n",
       "</table>\n",
       "</div>"
      ],
      "text/plain": [
       "   Unnamed: 0  Rank      Country  Score  GDP Per Capita  Social Support  \\\n",
       "0           0     1      Finland  7.769           1.340           1.587   \n",
       "1           1     2      Denmark  7.600           1.383           1.573   \n",
       "2           2     3       Norway  7.554           1.488           1.582   \n",
       "3           3     4      Iceland  7.494           1.380           1.624   \n",
       "4           4     5  Netherlands  7.488           1.396           1.522   \n",
       "\n",
       "   Life Expectancy  Freedom  Generosity  Perception of Corruption  \n",
       "0            0.986    0.596       0.153                     0.393  \n",
       "1            0.996    0.592       0.252                     0.410  \n",
       "2            1.028    0.603       0.271                     0.341  \n",
       "3            1.026    0.591       0.354                     0.118  \n",
       "4            0.999    0.557       0.322                     0.298  "
      ]
     },
     "execution_count": 5,
     "metadata": {},
     "output_type": "execute_result"
    }
   ],
   "source": [
    "df_happiness.head()"
   ]
  },
  {
   "cell_type": "code",
   "execution_count": 6,
   "id": "d8c58bdb",
   "metadata": {},
   "outputs": [
    {
     "data": {
      "text/plain": [
       "(156, 10)"
      ]
     },
     "execution_count": 6,
     "metadata": {},
     "output_type": "execute_result"
    }
   ],
   "source": [
    "df_happiness.shape"
   ]
  },
  {
   "cell_type": "code",
   "execution_count": 7,
   "id": "c606b56f",
   "metadata": {},
   "outputs": [],
   "source": [
    "# Drop Unnecessary Columns\n",
    "happiness_subset = df_happiness.drop(['Unnamed: 0'], axis = 1)"
   ]
  },
  {
   "cell_type": "code",
   "execution_count": 9,
   "id": "90790747",
   "metadata": {},
   "outputs": [
    {
     "data": {
      "text/plain": [
       "(156, 9)"
      ]
     },
     "execution_count": 9,
     "metadata": {},
     "output_type": "execute_result"
    }
   ],
   "source": [
    "happiness_subset.shape"
   ]
  },
  {
   "cell_type": "code",
   "execution_count": 11,
   "id": "fc8773a5",
   "metadata": {},
   "outputs": [
    {
     "data": {
      "text/html": [
       "<div>\n",
       "<style scoped>\n",
       "    .dataframe tbody tr th:only-of-type {\n",
       "        vertical-align: middle;\n",
       "    }\n",
       "\n",
       "    .dataframe tbody tr th {\n",
       "        vertical-align: top;\n",
       "    }\n",
       "\n",
       "    .dataframe thead th {\n",
       "        text-align: right;\n",
       "    }\n",
       "</style>\n",
       "<table border=\"1\" class=\"dataframe\">\n",
       "  <thead>\n",
       "    <tr style=\"text-align: right;\">\n",
       "      <th></th>\n",
       "      <th>Rank</th>\n",
       "      <th>Score</th>\n",
       "      <th>GDP Per Capita</th>\n",
       "      <th>Social Support</th>\n",
       "      <th>Life Expectancy</th>\n",
       "      <th>Freedom</th>\n",
       "      <th>Generosity</th>\n",
       "      <th>Perception of Corruption</th>\n",
       "    </tr>\n",
       "  </thead>\n",
       "  <tbody>\n",
       "    <tr>\n",
       "      <th>count</th>\n",
       "      <td>156.000000</td>\n",
       "      <td>156.000000</td>\n",
       "      <td>156.000000</td>\n",
       "      <td>156.000000</td>\n",
       "      <td>156.000000</td>\n",
       "      <td>156.000000</td>\n",
       "      <td>156.000000</td>\n",
       "      <td>156.000000</td>\n",
       "    </tr>\n",
       "    <tr>\n",
       "      <th>mean</th>\n",
       "      <td>78.500000</td>\n",
       "      <td>5.407096</td>\n",
       "      <td>0.905147</td>\n",
       "      <td>1.208814</td>\n",
       "      <td>0.725244</td>\n",
       "      <td>0.392571</td>\n",
       "      <td>0.184846</td>\n",
       "      <td>0.110603</td>\n",
       "    </tr>\n",
       "    <tr>\n",
       "      <th>std</th>\n",
       "      <td>45.177428</td>\n",
       "      <td>1.113120</td>\n",
       "      <td>0.398389</td>\n",
       "      <td>0.299191</td>\n",
       "      <td>0.242124</td>\n",
       "      <td>0.143289</td>\n",
       "      <td>0.095254</td>\n",
       "      <td>0.094538</td>\n",
       "    </tr>\n",
       "    <tr>\n",
       "      <th>min</th>\n",
       "      <td>1.000000</td>\n",
       "      <td>2.853000</td>\n",
       "      <td>0.000000</td>\n",
       "      <td>0.000000</td>\n",
       "      <td>0.000000</td>\n",
       "      <td>0.000000</td>\n",
       "      <td>0.000000</td>\n",
       "      <td>0.000000</td>\n",
       "    </tr>\n",
       "    <tr>\n",
       "      <th>25%</th>\n",
       "      <td>39.750000</td>\n",
       "      <td>4.544500</td>\n",
       "      <td>0.602750</td>\n",
       "      <td>1.055750</td>\n",
       "      <td>0.547750</td>\n",
       "      <td>0.308000</td>\n",
       "      <td>0.108750</td>\n",
       "      <td>0.047000</td>\n",
       "    </tr>\n",
       "    <tr>\n",
       "      <th>50%</th>\n",
       "      <td>78.500000</td>\n",
       "      <td>5.379500</td>\n",
       "      <td>0.960000</td>\n",
       "      <td>1.271500</td>\n",
       "      <td>0.789000</td>\n",
       "      <td>0.417000</td>\n",
       "      <td>0.177500</td>\n",
       "      <td>0.085500</td>\n",
       "    </tr>\n",
       "    <tr>\n",
       "      <th>75%</th>\n",
       "      <td>117.250000</td>\n",
       "      <td>6.184500</td>\n",
       "      <td>1.232500</td>\n",
       "      <td>1.452500</td>\n",
       "      <td>0.881750</td>\n",
       "      <td>0.507250</td>\n",
       "      <td>0.248250</td>\n",
       "      <td>0.141250</td>\n",
       "    </tr>\n",
       "    <tr>\n",
       "      <th>max</th>\n",
       "      <td>156.000000</td>\n",
       "      <td>7.769000</td>\n",
       "      <td>1.684000</td>\n",
       "      <td>1.624000</td>\n",
       "      <td>1.141000</td>\n",
       "      <td>0.631000</td>\n",
       "      <td>0.566000</td>\n",
       "      <td>0.453000</td>\n",
       "    </tr>\n",
       "  </tbody>\n",
       "</table>\n",
       "</div>"
      ],
      "text/plain": [
       "             Rank       Score  GDP Per Capita  Social Support  \\\n",
       "count  156.000000  156.000000      156.000000      156.000000   \n",
       "mean    78.500000    5.407096        0.905147        1.208814   \n",
       "std     45.177428    1.113120        0.398389        0.299191   \n",
       "min      1.000000    2.853000        0.000000        0.000000   \n",
       "25%     39.750000    4.544500        0.602750        1.055750   \n",
       "50%     78.500000    5.379500        0.960000        1.271500   \n",
       "75%    117.250000    6.184500        1.232500        1.452500   \n",
       "max    156.000000    7.769000        1.684000        1.624000   \n",
       "\n",
       "       Life Expectancy     Freedom  Generosity  Perception of Corruption  \n",
       "count       156.000000  156.000000  156.000000                156.000000  \n",
       "mean          0.725244    0.392571    0.184846                  0.110603  \n",
       "std           0.242124    0.143289    0.095254                  0.094538  \n",
       "min           0.000000    0.000000    0.000000                  0.000000  \n",
       "25%           0.547750    0.308000    0.108750                  0.047000  \n",
       "50%           0.789000    0.417000    0.177500                  0.085500  \n",
       "75%           0.881750    0.507250    0.248250                  0.141250  \n",
       "max           1.141000    0.631000    0.566000                  0.453000  "
      ]
     },
     "execution_count": 11,
     "metadata": {},
     "output_type": "execute_result"
    }
   ],
   "source": [
    "happiness_subset.describe()\n",
    "# No Extreme Values"
   ]
  },
  {
   "cell_type": "code",
   "execution_count": 12,
   "id": "98078fdb",
   "metadata": {},
   "outputs": [],
   "source": [
    "# Change Variable Type\n",
    "happiness_subset['Rank'] = happiness_subset['Rank'].astype('int64')"
   ]
  },
  {
   "cell_type": "code",
   "execution_count": 13,
   "id": "a91625cd",
   "metadata": {},
   "outputs": [
    {
     "data": {
      "text/plain": [
       "Rank                        0\n",
       "Country                     0\n",
       "Score                       0\n",
       "GDP Per Capita              0\n",
       "Social Support              0\n",
       "Life Expectancy             0\n",
       "Freedom                     0\n",
       "Generosity                  0\n",
       "Perception of Corruption    0\n",
       "dtype: int64"
      ]
     },
     "execution_count": 13,
     "metadata": {},
     "output_type": "execute_result"
    }
   ],
   "source": [
    "# Check Missing Values\n",
    "happiness_subset.isnull().sum()"
   ]
  },
  {
   "cell_type": "code",
   "execution_count": 14,
   "id": "1533a721",
   "metadata": {},
   "outputs": [
    {
     "data": {
      "text/plain": [
       "(156,)"
      ]
     },
     "execution_count": 14,
     "metadata": {},
     "output_type": "execute_result"
    }
   ],
   "source": [
    "# Check Duplicates\n",
    "dups = happiness_subset.duplicated()\n",
    "dups.shape # No Duplicates"
   ]
  },
  {
   "cell_type": "markdown",
   "id": "3cdd54aa",
   "metadata": {},
   "source": [
    "4. Create Scatterplots"
   ]
  },
  {
   "cell_type": "code",
   "execution_count": 15,
   "id": "6763e106",
   "metadata": {},
   "outputs": [
    {
     "data": {
      "image/png": "[encoded data removed]",
      "text/plain": [
       "<Figure size 640x480 with 1 Axes>"
      ]
     },
     "metadata": {},
     "output_type": "display_data"
    }
   ],
   "source": [
    "# Create Scatterplot Score vs GDP Per Capita\n",
    "happiness_subset.plot(x = 'GDP Per Capita', y='Score',style='o')\n",
    "plt.title('Score vs GDP Per Capita')  \n",
    "plt.xlabel('GDP Per Capita')  \n",
    "plt.ylabel('Score')  \n",
    "plt.show()"
   ]
  },
  {
   "cell_type": "code",
   "execution_count": 16,
   "id": "9d5b67c8",
   "metadata": {},
   "outputs": [
    {
     "data": {
      "image/png": "[encoded data removed]",
      "text/plain": [
       "<Figure size 640x480 with 1 Axes>"
      ]
     },
     "metadata": {},
     "output_type": "display_data"
    }
   ],
   "source": [
    "# Create Scatterplot Score vs Social Support\n",
    "happiness_subset.plot(x = 'Social Support', y='Score',style='o')\n",
    "plt.title('Score vs Social Support')  \n",
    "plt.xlabel('Social Support')  \n",
    "plt.ylabel('Score')  \n",
    "plt.show()"
   ]
  },
  {
   "cell_type": "code",
   "execution_count": 17,
   "id": "dee80744",
   "metadata": {},
   "outputs": [
    {
     "data": {
      "image/png": "[encoded data removed]",
      "text/plain": [
       "<Figure size 640x480 with 1 Axes>"
      ]
     },
     "metadata": {},
     "output_type": "display_data"
    }
   ],
   "source": [
    "# Create Scatterplot Score vs Life Expectancy\n",
    "happiness_subset.plot(x = 'Life Expectancy', y='Score',style='o')\n",
    "plt.title('Score vs Life Expectancy')  \n",
    "plt.xlabel('Life Expectancy')  \n",
    "plt.ylabel('Score')  \n",
    "plt.show()"
   ]
  },
  {
   "cell_type": "markdown",
   "id": "428207dc",
   "metadata": {},
   "source": [
    "Hypothesis: The higher the GDP per Capita the higher the happiness score."
   ]
  },
  {
   "cell_type": "markdown",
   "id": "e89f4709",
   "metadata": {},
   "source": [
    "5. Reshape Variables"
   ]
  },
  {
   "cell_type": "code",
   "execution_count": 19,
   "id": "44d60136",
   "metadata": {},
   "outputs": [],
   "source": [
    "X = happiness_subset['GDP Per Capita'].values.reshape(-1,1)\n",
    "y = happiness_subset['Score'].values.reshape(-1,1)"
   ]
  },
  {
   "cell_type": "code",
   "execution_count": 20,
   "id": "637d993c",
   "metadata": {},
   "outputs": [
    {
     "data": {
      "text/plain": [
       "array([[1.34 ],\n",
       "       [1.383],\n",
       "       [1.488],\n",
       "       [1.38 ],\n",
       "       [1.396],\n",
       "       [1.452],\n",
       "       [1.387],\n",
       "       [1.303],\n",
       "       [1.365],\n",
       "       [1.376],\n",
       "       [1.372],\n",
       "       [1.034],\n",
       "       [1.276],\n",
       "       [1.609],\n",
       "       [1.333],\n",
       "       [1.499],\n",
       "       [1.373],\n",
       "       [1.356],\n",
       "       [1.433],\n",
       "       [1.269],\n",
       "       [1.503],\n",
       "       [1.3  ],\n",
       "       [1.07 ],\n",
       "       [1.324],\n",
       "       [1.368],\n",
       "       [1.159],\n",
       "       [0.8  ],\n",
       "       [1.403],\n",
       "       [1.684],\n",
       "       [1.286],\n",
       "       [1.149],\n",
       "       [1.004],\n",
       "       [1.124],\n",
       "       [1.572],\n",
       "       [0.794],\n",
       "       [1.294],\n",
       "       [1.362],\n",
       "       [1.246],\n",
       "       [1.231],\n",
       "       [1.206],\n",
       "       [0.745],\n",
       "       [1.238],\n",
       "       [0.985],\n",
       "       [1.258],\n",
       "       [0.694],\n",
       "       [0.882],\n",
       "       [1.092],\n",
       "       [1.162],\n",
       "       [1.263],\n",
       "       [0.912],\n",
       "       [1.5  ],\n",
       "       [1.05 ],\n",
       "       [1.187],\n",
       "       [1.301],\n",
       "       [1.237],\n",
       "       [0.831],\n",
       "       [1.12 ],\n",
       "       [1.327],\n",
       "       [0.642],\n",
       "       [1.173],\n",
       "       [0.776],\n",
       "       [1.201],\n",
       "       [0.855],\n",
       "       [1.263],\n",
       "       [0.96 ],\n",
       "       [1.221],\n",
       "       [0.677],\n",
       "       [1.183],\n",
       "       [0.807],\n",
       "       [1.004],\n",
       "       [0.685],\n",
       "       [1.044],\n",
       "       [1.051],\n",
       "       [0.493],\n",
       "       [1.155],\n",
       "       [1.438],\n",
       "       [1.015],\n",
       "       [0.945],\n",
       "       [1.183],\n",
       "       [1.221],\n",
       "       [1.067],\n",
       "       [1.181],\n",
       "       [0.948],\n",
       "       [0.983],\n",
       "       [0.696],\n",
       "       [0.551],\n",
       "       [1.052],\n",
       "       [1.002],\n",
       "       [0.801],\n",
       "       [1.043],\n",
       "       [0.987],\n",
       "       [0.931],\n",
       "       [1.029],\n",
       "       [0.741],\n",
       "       [0.813],\n",
       "       [0.549],\n",
       "       [1.092],\n",
       "       [0.611],\n",
       "       [0.569],\n",
       "       [0.446],\n",
       "       [0.837],\n",
       "       [0.393],\n",
       "       [0.673],\n",
       "       [1.057],\n",
       "       [0.764],\n",
       "       [0.96 ],\n",
       "       [0.947],\n",
       "       [0.96 ],\n",
       "       [0.574],\n",
       "       [0.657],\n",
       "       [0.45 ],\n",
       "       [0.   ],\n",
       "       [0.879],\n",
       "       [0.138],\n",
       "       [0.331],\n",
       "       [0.85 ],\n",
       "       [1.1  ],\n",
       "       [0.38 ],\n",
       "       [0.886],\n",
       "       [0.308],\n",
       "       [0.512],\n",
       "       [0.57 ],\n",
       "       [0.204],\n",
       "       [0.921],\n",
       "       [0.562],\n",
       "       [1.043],\n",
       "       [0.094],\n",
       "       [0.385],\n",
       "       [0.268],\n",
       "       [0.949],\n",
       "       [0.71 ],\n",
       "       [0.35 ],\n",
       "       [0.82 ],\n",
       "       [0.336],\n",
       "       [0.811],\n",
       "       [0.332],\n",
       "       [0.913],\n",
       "       [0.578],\n",
       "       [0.275],\n",
       "       [0.755],\n",
       "       [0.073],\n",
       "       [0.274],\n",
       "       [0.274],\n",
       "       [0.489],\n",
       "       [0.046],\n",
       "       [0.366],\n",
       "       [0.323],\n",
       "       [1.041],\n",
       "       [0.619],\n",
       "       [0.191],\n",
       "       [0.287],\n",
       "       [0.359],\n",
       "       [0.476],\n",
       "       [0.35 ],\n",
       "       [0.026],\n",
       "       [0.306]])"
      ]
     },
     "execution_count": 20,
     "metadata": {},
     "output_type": "execute_result"
    }
   ],
   "source": [
    "X"
   ]
  },
  {
   "cell_type": "code",
   "execution_count": 21,
   "id": "56cda62f",
   "metadata": {},
   "outputs": [
    {
     "data": {
      "text/plain": [
       "array([[7.769],\n",
       "       [7.6  ],\n",
       "       [7.554],\n",
       "       [7.494],\n",
       "       [7.488],\n",
       "       [7.48 ],\n",
       "       [7.343],\n",
       "       [7.307],\n",
       "       [7.278],\n",
       "       [7.246],\n",
       "       [7.228],\n",
       "       [7.167],\n",
       "       [7.139],\n",
       "       [7.09 ],\n",
       "       [7.054],\n",
       "       [7.021],\n",
       "       [6.985],\n",
       "       [6.923],\n",
       "       [6.892],\n",
       "       [6.852],\n",
       "       [6.825],\n",
       "       [6.726],\n",
       "       [6.595],\n",
       "       [6.592],\n",
       "       [6.446],\n",
       "       [6.444],\n",
       "       [6.436],\n",
       "       [6.375],\n",
       "       [6.374],\n",
       "       [6.354],\n",
       "       [6.321],\n",
       "       [6.3  ],\n",
       "       [6.293],\n",
       "       [6.262],\n",
       "       [6.253],\n",
       "       [6.223],\n",
       "       [6.199],\n",
       "       [6.198],\n",
       "       [6.192],\n",
       "       [6.182],\n",
       "       [6.174],\n",
       "       [6.149],\n",
       "       [6.125],\n",
       "       [6.118],\n",
       "       [6.105],\n",
       "       [6.1  ],\n",
       "       [6.086],\n",
       "       [6.07 ],\n",
       "       [6.046],\n",
       "       [6.028],\n",
       "       [6.021],\n",
       "       [6.008],\n",
       "       [5.94 ],\n",
       "       [5.895],\n",
       "       [5.893],\n",
       "       [5.89 ],\n",
       "       [5.888],\n",
       "       [5.886],\n",
       "       [5.86 ],\n",
       "       [5.809],\n",
       "       [5.779],\n",
       "       [5.758],\n",
       "       [5.743],\n",
       "       [5.718],\n",
       "       [5.697],\n",
       "       [5.693],\n",
       "       [5.653],\n",
       "       [5.648],\n",
       "       [5.631],\n",
       "       [5.603],\n",
       "       [5.529],\n",
       "       [5.525],\n",
       "       [5.523],\n",
       "       [5.467],\n",
       "       [5.432],\n",
       "       [5.43 ],\n",
       "       [5.425],\n",
       "       [5.386],\n",
       "       [5.373],\n",
       "       [5.339],\n",
       "       [5.323],\n",
       "       [5.287],\n",
       "       [5.285],\n",
       "       [5.274],\n",
       "       [5.265],\n",
       "       [5.261],\n",
       "       [5.247],\n",
       "       [5.211],\n",
       "       [5.208],\n",
       "       [5.208],\n",
       "       [5.197],\n",
       "       [5.192],\n",
       "       [5.191],\n",
       "       [5.175],\n",
       "       [5.082],\n",
       "       [5.044],\n",
       "       [5.011],\n",
       "       [4.996],\n",
       "       [4.944],\n",
       "       [4.913],\n",
       "       [4.906],\n",
       "       [4.883],\n",
       "       [4.812],\n",
       "       [4.799],\n",
       "       [4.796],\n",
       "       [4.722],\n",
       "       [4.719],\n",
       "       [4.707],\n",
       "       [4.7  ],\n",
       "       [4.696],\n",
       "       [4.681],\n",
       "       [4.668],\n",
       "       [4.639],\n",
       "       [4.628],\n",
       "       [4.587],\n",
       "       [4.559],\n",
       "       [4.548],\n",
       "       [4.534],\n",
       "       [4.519],\n",
       "       [4.516],\n",
       "       [4.509],\n",
       "       [4.49 ],\n",
       "       [4.466],\n",
       "       [4.461],\n",
       "       [4.456],\n",
       "       [4.437],\n",
       "       [4.418],\n",
       "       [4.39 ],\n",
       "       [4.374],\n",
       "       [4.366],\n",
       "       [4.36 ],\n",
       "       [4.35 ],\n",
       "       [4.332],\n",
       "       [4.286],\n",
       "       [4.212],\n",
       "       [4.189],\n",
       "       [4.166],\n",
       "       [4.107],\n",
       "       [4.085],\n",
       "       [4.015],\n",
       "       [3.975],\n",
       "       [3.973],\n",
       "       [3.933],\n",
       "       [3.802],\n",
       "       [3.775],\n",
       "       [3.663],\n",
       "       [3.597],\n",
       "       [3.488],\n",
       "       [3.462],\n",
       "       [3.41 ],\n",
       "       [3.38 ],\n",
       "       [3.334],\n",
       "       [3.231],\n",
       "       [3.203],\n",
       "       [3.083],\n",
       "       [2.853]])"
      ]
     },
     "execution_count": 21,
     "metadata": {},
     "output_type": "execute_result"
    }
   ],
   "source": [
    "y"
   ]
  },
  {
   "cell_type": "markdown",
   "id": "cea6e19a",
   "metadata": {},
   "source": [
    "6. Split Data into Training Set and Test Set"
   ]
  },
  {
   "cell_type": "code",
   "execution_count": 22,
   "id": "c506631b",
   "metadata": {},
   "outputs": [],
   "source": [
    "X_train, X_test, y_train, y_test = train_test_split(X, y, test_size=0.3, random_state=0)"
   ]
  },
  {
   "cell_type": "markdown",
   "id": "98e17bb7",
   "metadata": {},
   "source": [
    "7. Linear Regression"
   ]
  },
  {
   "cell_type": "code",
   "execution_count": 23,
   "id": "080816e5",
   "metadata": {},
   "outputs": [],
   "source": [
    "regression = LinearRegression()"
   ]
  },
  {
   "cell_type": "code",
   "execution_count": 24,
   "id": "48cf52fe",
   "metadata": {},
   "outputs": [
    {
     "data": {
      "text/html": [
       "<style>#sk-container-id-1 {color: black;}#sk-container-id-1 pre{padding: 0;}#sk-container-id-1 div.sk-toggleable {background-color: white;}#sk-container-id-1 label.sk-toggleable__label {cursor: pointer;display: block;width: 100%;margin-bottom: 0;padding: 0.3em;box-sizing: border-box;text-align: center;}#sk-container-id-1 label.sk-toggleable__label-arrow:before {content: \"▸\";float: left;margin-right: 0.25em;color: #696969;}#sk-container-id-1 label.sk-toggleable__label-arrow:hover:before {color: black;}#sk-container-id-1 div.sk-estimator:hover label.sk-toggleable__label-arrow:before {color: black;}#sk-container-id-1 div.sk-toggleable__content {max-height: 0;max-width: 0;overflow: hidden;text-align: left;background-color: #f0f8ff;}#sk-container-id-1 div.sk-toggleable__content pre {margin: 0.2em;color: black;border-radius: 0.25em;background-color: #f0f8ff;}#sk-container-id-1 input.sk-toggleable__control:checked~div.sk-toggleable__content {max-height: 200px;max-width: 100%;overflow: auto;}#sk-container-id-1 input.sk-toggleable__control:checked~label.sk-toggleable__label-arrow:before {content: \"▾\";}#sk-container-id-1 div.sk-estimator input.sk-toggleable__control:checked~label.sk-toggleable__label {background-color: #d4ebff;}#sk-container-id-1 div.sk-label input.sk-toggleable__control:checked~label.sk-toggleable__label {background-color: #d4ebff;}#sk-container-id-1 input.sk-hidden--visually {border: 0;clip: rect(1px 1px 1px 1px);clip: rect(1px, 1px, 1px, 1px);height: 1px;margin: -1px;overflow: hidden;padding: 0;position: absolute;width: 1px;}#sk-container-id-1 div.sk-estimator {font-family: monospace;background-color: #f0f8ff;border: 1px dotted black;border-radius: 0.25em;box-sizing: border-box;margin-bottom: 0.5em;}#sk-container-id-1 div.sk-estimator:hover {background-color: #d4ebff;}#sk-container-id-1 div.sk-parallel-item::after {content: \"\";width: 100%;border-bottom: 1px solid gray;flex-grow: 1;}#sk-container-id-1 div.sk-label:hover label.sk-toggleable__label {background-color: #d4ebff;}#sk-container-id-1 div.sk-serial::before {content: \"\";position: absolute;border-left: 1px solid gray;box-sizing: border-box;top: 0;bottom: 0;left: 50%;z-index: 0;}#sk-container-id-1 div.sk-serial {display: flex;flex-direction: column;align-items: center;background-color: white;padding-right: 0.2em;padding-left: 0.2em;position: relative;}#sk-container-id-1 div.sk-item {position: relative;z-index: 1;}#sk-container-id-1 div.sk-parallel {display: flex;align-items: stretch;justify-content: center;background-color: white;position: relative;}#sk-container-id-1 div.sk-item::before, #sk-container-id-1 div.sk-parallel-item::before {content: \"\";position: absolute;border-left: 1px solid gray;box-sizing: border-box;top: 0;bottom: 0;left: 50%;z-index: -1;}#sk-container-id-1 div.sk-parallel-item {display: flex;flex-direction: column;z-index: 1;position: relative;background-color: white;}#sk-container-id-1 div.sk-parallel-item:first-child::after {align-self: flex-end;width: 50%;}#sk-container-id-1 div.sk-parallel-item:last-child::after {align-self: flex-start;width: 50%;}#sk-container-id-1 div.sk-parallel-item:only-child::after {width: 0;}#sk-container-id-1 div.sk-dashed-wrapped {border: 1px dashed gray;margin: 0 0.4em 0.5em 0.4em;box-sizing: border-box;padding-bottom: 0.4em;background-color: white;}#sk-container-id-1 div.sk-label label {font-family: monospace;font-weight: bold;display: inline-block;line-height: 1.2em;}#sk-container-id-1 div.sk-label-container {text-align: center;}#sk-container-id-1 div.sk-container {/* jupyter's `normalize.less` sets `[hidden] { display: none; }` but bootstrap.min.css set `[hidden] { display: none !important; }` so we also need the `!important` here to be able to override the default hidden behavior on the sphinx rendered scikit-learn.org. See: https://github.com/scikit-learn/scikit-learn/issues/21755 */display: inline-block !important;position: relative;}#sk-container-id-1 div.sk-text-repr-fallback {display: none;}</style><div id=\"sk-container-id-1\" class=\"sk-top-container\"><div class=\"sk-text-repr-fallback\"><pre>LinearRegression()</pre><b>In a Jupyter environment, please rerun this cell to show the HTML representation or trust the notebook. <br />On GitHub, the HTML representation is unable to render, please try loading this page with nbviewer.org.</b></div><div class=\"sk-container\" hidden><div class=\"sk-item\"><div class=\"sk-estimator sk-toggleable\"><input class=\"sk-toggleable__control sk-hidden--visually\" id=\"sk-estimator-id-1\" type=\"checkbox\" checked><label for=\"sk-estimator-id-1\" class=\"sk-toggleable__label sk-toggleable__label-arrow\">LinearRegression</label><div class=\"sk-toggleable__content\"><pre>LinearRegression()</pre></div></div></div></div></div>"
      ],
      "text/plain": [
       "LinearRegression()"
      ]
     },
     "execution_count": 24,
     "metadata": {},
     "output_type": "execute_result"
    }
   ],
   "source": [
    "regression.fit(X_train, y_train)"
   ]
  },
  {
   "cell_type": "code",
   "execution_count": 25,
   "id": "fd3ef2b6",
   "metadata": {},
   "outputs": [],
   "source": [
    "y_predicted = regression.predict(X_test)"
   ]
  },
  {
   "cell_type": "code",
   "execution_count": 26,
   "id": "7bca14fe",
   "metadata": {},
   "outputs": [
    {
     "data": {
      "image/png": "[encoded data removed]",
      "text/plain": [
       "<Figure size 640x480 with 1 Axes>"
      ]
     },
     "metadata": {},
     "output_type": "display_data"
    }
   ],
   "source": [
    "plot_test = plt\n",
    "plot_test.scatter(X_test, y_test, color='gray', s = 15)\n",
    "plot_test.plot(X_test, y_predicted, color='red', linewidth =3)\n",
    "plot_test.title('GDP Per Capita vs Score (Test Set)')\n",
    "plot_test.xlabel('GDP Per Capita')\n",
    "plot_test.ylabel('Score')\n",
    "plot_test.show()"
   ]
  },
  {
   "cell_type": "markdown",
   "id": "b3de15bd",
   "metadata": {},
   "source": [
    "The regression line appears to fit the data fairly accurately, but I might have expected it to have a slightly steeper slope."
   ]
  },
  {
   "cell_type": "markdown",
   "id": "32d3108a",
   "metadata": {},
   "source": [
    "8. MSE and R2 Score"
   ]
  },
  {
   "cell_type": "code",
   "execution_count": 27,
   "id": "3444d5d4",
   "metadata": {},
   "outputs": [],
   "source": [
    "mse = mean_squared_error(y_test, y_predicted)\n",
    "r2 = r2_score(y_test, y_predicted) "
   ]
  },
  {
   "cell_type": "code",
   "execution_count": 29,
   "id": "d63ed55f",
   "metadata": {},
   "outputs": [
    {
     "name": "stdout",
     "output_type": "stream",
     "text": [
      "Slope: [[2.28560657]]\n",
      "Mean Squared Error:  0.5168179896793244\n",
      "R2 Score:  0.4921825647047632\n"
     ]
    }
   ],
   "source": [
    "print('Slope:' ,regression.coef_)\n",
    "print('Mean Squared Error: ', mse)\n",
    "print('R2 Score: ', r2)"
   ]
  },
  {
   "cell_type": "markdown",
   "id": "9b797438",
   "metadata": {},
   "source": [
    "9. Compare Predicted & Actual y Values"
   ]
  },
  {
   "cell_type": "code",
   "execution_count": 30,
   "id": "e8865f27",
   "metadata": {},
   "outputs": [
    {
     "data": {
      "text/html": [
       "<div>\n",
       "<style scoped>\n",
       "    .dataframe tbody tr th:only-of-type {\n",
       "        vertical-align: middle;\n",
       "    }\n",
       "\n",
       "    .dataframe tbody tr th {\n",
       "        vertical-align: top;\n",
       "    }\n",
       "\n",
       "    .dataframe thead th {\n",
       "        text-align: right;\n",
       "    }\n",
       "</style>\n",
       "<table border=\"1\" class=\"dataframe\">\n",
       "  <thead>\n",
       "    <tr style=\"text-align: right;\">\n",
       "      <th></th>\n",
       "      <th>Actual</th>\n",
       "      <th>Predicted</th>\n",
       "    </tr>\n",
       "  </thead>\n",
       "  <tbody>\n",
       "    <tr>\n",
       "      <th>0</th>\n",
       "      <td>6.436</td>\n",
       "      <td>5.167462</td>\n",
       "    </tr>\n",
       "    <tr>\n",
       "      <th>1</th>\n",
       "      <td>5.893</td>\n",
       "      <td>6.166272</td>\n",
       "    </tr>\n",
       "    <tr>\n",
       "      <th>2</th>\n",
       "      <td>6.198</td>\n",
       "      <td>6.186843</td>\n",
       "    </tr>\n",
       "    <tr>\n",
       "      <th>3</th>\n",
       "      <td>4.639</td>\n",
       "      <td>5.348025</td>\n",
       "    </tr>\n",
       "    <tr>\n",
       "      <th>4</th>\n",
       "      <td>6.446</td>\n",
       "      <td>6.465687</td>\n",
       "    </tr>\n",
       "    <tr>\n",
       "      <th>5</th>\n",
       "      <td>7.307</td>\n",
       "      <td>6.317122</td>\n",
       "    </tr>\n",
       "    <tr>\n",
       "      <th>6</th>\n",
       "      <td>6.100</td>\n",
       "      <td>5.354882</td>\n",
       "    </tr>\n",
       "    <tr>\n",
       "      <th>7</th>\n",
       "      <td>4.707</td>\n",
       "      <td>5.533159</td>\n",
       "    </tr>\n",
       "    <tr>\n",
       "      <th>8</th>\n",
       "      <td>4.107</td>\n",
       "      <td>4.660058</td>\n",
       "    </tr>\n",
       "    <tr>\n",
       "      <th>9</th>\n",
       "      <td>6.174</td>\n",
       "      <td>5.041754</td>\n",
       "    </tr>\n",
       "    <tr>\n",
       "      <th>10</th>\n",
       "      <td>5.197</td>\n",
       "      <td>5.594871</td>\n",
       "    </tr>\n",
       "    <tr>\n",
       "      <th>11</th>\n",
       "      <td>6.008</td>\n",
       "      <td>5.738864</td>\n",
       "    </tr>\n",
       "    <tr>\n",
       "      <th>12</th>\n",
       "      <td>4.700</td>\n",
       "      <td>4.650915</td>\n",
       "    </tr>\n",
       "    <tr>\n",
       "      <th>13</th>\n",
       "      <td>4.516</td>\n",
       "      <td>4.042944</td>\n",
       "    </tr>\n",
       "    <tr>\n",
       "      <th>14</th>\n",
       "      <td>5.888</td>\n",
       "      <td>5.898856</td>\n",
       "    </tr>\n",
       "    <tr>\n",
       "      <th>15</th>\n",
       "      <td>3.488</td>\n",
       "      <td>5.718294</td>\n",
       "    </tr>\n",
       "    <tr>\n",
       "      <th>16</th>\n",
       "      <td>6.262</td>\n",
       "      <td>6.931951</td>\n",
       "    </tr>\n",
       "    <tr>\n",
       "      <th>17</th>\n",
       "      <td>4.519</td>\n",
       "      <td>5.364024</td>\n",
       "    </tr>\n",
       "    <tr>\n",
       "      <th>18</th>\n",
       "      <td>6.105</td>\n",
       "      <td>4.925188</td>\n",
       "    </tr>\n",
       "    <tr>\n",
       "      <th>19</th>\n",
       "      <td>4.374</td>\n",
       "      <td>3.951520</td>\n",
       "    </tr>\n",
       "    <tr>\n",
       "      <th>20</th>\n",
       "      <td>3.663</td>\n",
       "      <td>4.175509</td>\n",
       "    </tr>\n",
       "    <tr>\n",
       "      <th>21</th>\n",
       "      <td>7.278</td>\n",
       "      <td>6.458830</td>\n",
       "    </tr>\n",
       "    <tr>\n",
       "      <th>22</th>\n",
       "      <td>4.015</td>\n",
       "      <td>5.064610</td>\n",
       "    </tr>\n",
       "    <tr>\n",
       "      <th>23</th>\n",
       "      <td>5.809</td>\n",
       "      <td>6.019994</td>\n",
       "    </tr>\n",
       "    <tr>\n",
       "      <th>24</th>\n",
       "      <td>4.668</td>\n",
       "      <td>3.338977</td>\n",
       "    </tr>\n",
       "    <tr>\n",
       "      <th>25</th>\n",
       "      <td>3.231</td>\n",
       "      <td>4.426926</td>\n",
       "    </tr>\n",
       "    <tr>\n",
       "      <th>26</th>\n",
       "      <td>5.261</td>\n",
       "      <td>4.598346</td>\n",
       "    </tr>\n",
       "    <tr>\n",
       "      <th>27</th>\n",
       "      <td>5.743</td>\n",
       "      <td>5.293171</td>\n",
       "    </tr>\n",
       "    <tr>\n",
       "      <th>28</th>\n",
       "      <td>5.274</td>\n",
       "      <td>5.585728</td>\n",
       "    </tr>\n",
       "    <tr>\n",
       "      <th>29</th>\n",
       "      <td>5.082</td>\n",
       "      <td>5.197175</td>\n",
       "    </tr>\n",
       "  </tbody>\n",
       "</table>\n",
       "</div>"
      ],
      "text/plain": [
       "    Actual  Predicted\n",
       "0    6.436   5.167462\n",
       "1    5.893   6.166272\n",
       "2    6.198   6.186843\n",
       "3    4.639   5.348025\n",
       "4    6.446   6.465687\n",
       "5    7.307   6.317122\n",
       "6    6.100   5.354882\n",
       "7    4.707   5.533159\n",
       "8    4.107   4.660058\n",
       "9    6.174   5.041754\n",
       "10   5.197   5.594871\n",
       "11   6.008   5.738864\n",
       "12   4.700   4.650915\n",
       "13   4.516   4.042944\n",
       "14   5.888   5.898856\n",
       "15   3.488   5.718294\n",
       "16   6.262   6.931951\n",
       "17   4.519   5.364024\n",
       "18   6.105   4.925188\n",
       "19   4.374   3.951520\n",
       "20   3.663   4.175509\n",
       "21   7.278   6.458830\n",
       "22   4.015   5.064610\n",
       "23   5.809   6.019994\n",
       "24   4.668   3.338977\n",
       "25   3.231   4.426926\n",
       "26   5.261   4.598346\n",
       "27   5.743   5.293171\n",
       "28   5.274   5.585728\n",
       "29   5.082   5.197175"
      ]
     },
     "execution_count": 30,
     "metadata": {},
     "output_type": "execute_result"
    }
   ],
   "source": [
    "data = pd.DataFrame({'Actual': y_test.flatten(), 'Predicted': y_predicted.flatten()})\n",
    "data.head(30)"
   ]
  },
  {
   "cell_type": "markdown",
   "id": "267c319a",
   "metadata": {},
   "source": [
    "10. Compare How Regression Fits Training Set"
   ]
  },
  {
   "cell_type": "code",
   "execution_count": 31,
   "id": "c84ea677",
   "metadata": {},
   "outputs": [],
   "source": [
    "y_predicted_train = regression.predict(X_train)"
   ]
  },
  {
   "cell_type": "code",
   "execution_count": 32,
   "id": "a3130da9",
   "metadata": {},
   "outputs": [],
   "source": [
    "mse = mean_squared_error(y_train, y_predicted_train)\n",
    "r2 = r2_score(y_train, y_predicted_train)"
   ]
  },
  {
   "cell_type": "code",
   "execution_count": 34,
   "id": "5d07c8dc",
   "metadata": {},
   "outputs": [
    {
     "name": "stdout",
     "output_type": "stream",
     "text": [
      "Slope: [[2.28560657]]\n",
      "Mean Squared error:  0.42965385241536524\n",
      "R2 Score:  0.6752547237794557\n"
     ]
    }
   ],
   "source": [
    "print('Slope:' ,regression.coef_)\n",
    "print('Mean Squared error: ', mse)\n",
    "print('R2 Score: ', r2)"
   ]
  },
  {
   "cell_type": "code",
   "execution_count": 35,
   "id": "ecc7e0f8",
   "metadata": {},
   "outputs": [
    {
     "data": {
      "image/png": "[encoded data removed]",
      "text/plain": [
       "<Figure size 640x480 with 1 Axes>"
      ]
     },
     "metadata": {},
     "output_type": "display_data"
    }
   ],
   "source": [
    "plot_test = plt\n",
    "plot_test.scatter(X_train, y_train, color='green', s = 15)\n",
    "plot_test.plot(X_train, y_predicted_train, color='red', linewidth =3)\n",
    "plot_test.title('GDP Per Capita vs Score (Train set)')\n",
    "plot_test.xlabel('GDP Per Capita')\n",
    "plot_test.ylabel('Score')\n",
    "plot_test.show()"
   ]
  },
  {
   "cell_type": "markdown",
   "id": "b252fa51",
   "metadata": {},
   "source": [
    "It appears that there is some variation between the actual and predicted values of y, so model is not that accurate. GDP per Capita certainly plays a role in the score, but it cannot be the only factor. I do believe that it is a significant factor."
   ]
  }
 ],
 "metadata": {
  "kernelspec": {
   "display_name": "Python 3 (ipykernel)",
   "language": "python",
   "name": "python3"
  },
  "language_info": {
   "codemirror_mode": {
    "name": "ipython",
    "version": 3
   },
   "file_extension": ".py",
   "mimetype": "text/x-python",
   "name": "python",
   "nbconvert_exporter": "python",
   "pygments_lexer": "ipython3",
   "version": "3.11.5"
  }
 },
 "nbformat": 4,
 "nbformat_minor": 5
}
